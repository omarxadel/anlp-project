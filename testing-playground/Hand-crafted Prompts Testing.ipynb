{
 "cells": [
  {
   "cell_type": "markdown",
   "id": "ae195f8d",
   "metadata": {},
   "source": [
    "# Hand-Crafted Prompts Testing Playground\n",
    "This notebook is made to offer means for testing the hand-crafted prompting method on a selection of LLMs. The notebook is meant to be a plug-and-play manner, where you could set the model id and run the cells to generate results directly.\n",
    "\n",
    "## Disclaimer\n",
    "This notebook is made to recreate Plaza-Del-Arco, F., Nozza, D., & Hovy, D. (2023). Respectful or Toxic? Using Zero-Shot Learning with Language Models to Detect Hate Speech. Retrieved from https://aclanthology.org/2023.woah-1.6.pdf"
   ]
  },
  {
   "cell_type": "markdown",
   "id": "52554004",
   "metadata": {},
   "source": [
    "## Instruction Fine-Tuned Model\n",
    "In this section, we try the instruction fine-tuned models with their prompt template."
   ]
  },
  {
   "cell_type": "code",
   "execution_count": 1,
   "id": "58ad6a1f-421c-4983-954f-337635d80dc5",
   "metadata": {},
   "outputs": [],
   "source": [
    "from transformers import AutoModelForSeq2SeqLM, AutoTokenizer, AutoModelForCausalLM, AutoModelForSequenceClassification\n",
    "import pandas as pd"
   ]
  },
  {
   "cell_type": "markdown",
   "id": "84a3673b-1813-46c9-91fc-cbe5d5eebd45",
   "metadata": {},
   "source": [
    "### Load Model and Tokenizer"
   ]
  },
  {
   "cell_type": "code",
   "execution_count": 2,
   "id": "ed09a233",
   "metadata": {},
   "outputs": [],
   "source": [
    "model = AutoModelForSeq2SeqLM.from_pretrained(\"google/flan-t5-small\")\n",
    "tokenizer = AutoTokenizer.from_pretrained(\"google/flan-t5-small\")"
   ]
  },
  {
   "cell_type": "markdown",
   "id": "cbe7122b",
   "metadata": {},
   "source": [
    "### Setting the Prompt Template"
   ]
  },
  {
   "cell_type": "code",
   "execution_count": 3,
   "id": "a5f622eb",
   "metadata": {},
   "outputs": [],
   "source": [
    "prompt_template = \"Classify this text as hate or non-hate. Text:\"\n",
    "output_indicator = \"Answer:\""
   ]
  },
  {
   "cell_type": "markdown",
   "id": "5f52ceab",
   "metadata": {},
   "source": [
    "### Loading Test Data"
   ]
  },
  {
   "cell_type": "code",
   "execution_count": 4,
   "id": "0ea4ecba",
   "metadata": {},
   "outputs": [
    {
     "data": {
      "text/html": [
       "<div>\n",
       "<style scoped>\n",
       "    .dataframe tbody tr th:only-of-type {\n",
       "        vertical-align: middle;\n",
       "    }\n",
       "\n",
       "    .dataframe tbody tr th {\n",
       "        vertical-align: top;\n",
       "    }\n",
       "\n",
       "    .dataframe thead th {\n",
       "        text-align: right;\n",
       "    }\n",
       "</style>\n",
       "<table border=\"1\" class=\"dataframe\">\n",
       "  <thead>\n",
       "    <tr style=\"text-align: right;\">\n",
       "      <th></th>\n",
       "      <th>class</th>\n",
       "      <th>tweet</th>\n",
       "    </tr>\n",
       "  </thead>\n",
       "  <tbody>\n",
       "    <tr>\n",
       "      <th>0</th>\n",
       "      <td>2</td>\n",
       "      <td>as a woman you shouldnt complain about cleanin...</td>\n",
       "    </tr>\n",
       "    <tr>\n",
       "      <th>1</th>\n",
       "      <td>1</td>\n",
       "      <td>boy dats coldtyga dwn bad for cuffin dat hoe i...</td>\n",
       "    </tr>\n",
       "    <tr>\n",
       "      <th>2</th>\n",
       "      <td>1</td>\n",
       "      <td>dawg you ever fuck a bitch and she start to cr...</td>\n",
       "    </tr>\n",
       "    <tr>\n",
       "      <th>3</th>\n",
       "      <td>1</td>\n",
       "      <td>she look like a tranny</td>\n",
       "    </tr>\n",
       "    <tr>\n",
       "      <th>4</th>\n",
       "      <td>1</td>\n",
       "      <td>the shit you hear about me might be true or it...</td>\n",
       "    </tr>\n",
       "  </tbody>\n",
       "</table>\n",
       "</div>"
      ],
      "text/plain": [
       "   class                                              tweet\n",
       "0      2  as a woman you shouldnt complain about cleanin...\n",
       "1      1  boy dats coldtyga dwn bad for cuffin dat hoe i...\n",
       "2      1  dawg you ever fuck a bitch and she start to cr...\n",
       "3      1                             she look like a tranny\n",
       "4      1  the shit you hear about me might be true or it..."
      ]
     },
     "execution_count": 4,
     "metadata": {},
     "output_type": "execute_result"
    }
   ],
   "source": [
    "df = pd.read_csv('./data/HSOL/preprocessed_data.csv')\n",
    "df.head()"
   ]
  },
  {
   "cell_type": "code",
   "execution_count": 5,
   "id": "4421441d",
   "metadata": {},
   "outputs": [],
   "source": [
    "labels = {\n",
    "    \"0\": \"Hate Speech\",\n",
    "    \"1\": \"Offensive\",\n",
    "    \"2\": \"Non-Hate\"\n",
    "}"
   ]
  },
  {
   "cell_type": "markdown",
   "id": "987dcca3",
   "metadata": {},
   "source": [
    "### Concatenate Prompt Template to Input Samples"
   ]
  },
  {
   "cell_type": "code",
   "execution_count": 6,
   "id": "8d47e5bd",
   "metadata": {},
   "outputs": [],
   "source": [
    "def concat_prompt_template(df_column):\n",
    "    return df_column.apply(lambda x: f\"{prompt_template} {x}. {output_indicator}\")"
   ]
  },
  {
   "cell_type": "code",
   "execution_count": 7,
   "id": "ae181ade-7afb-4493-b57e-34fd1c496cc7",
   "metadata": {},
   "outputs": [],
   "source": [
    "df['input'] = concat_prompt_template(df['tweet'])\n",
    "text_data = df['input'].astype(\"str\").tolist()"
   ]
  },
  {
   "cell_type": "markdown",
   "id": "e4ede63a-10eb-4db0-9ff6-7d18a36b888c",
   "metadata": {},
   "source": [
    "### Tokenize and Predict"
   ]
  },
  {
   "cell_type": "code",
   "execution_count": 8,
   "id": "438ca3dc",
   "metadata": {},
   "outputs": [],
   "source": [
    "inputs = tokenizer(text_data, return_tensors=\"pt\", padding=True, truncation=True)"
   ]
  },
  {
   "cell_type": "code",
   "execution_count": 11,
   "id": "b6a68816-544d-4a5c-b11c-15446ff642f5",
   "metadata": {},
   "outputs": [],
   "source": [
    "from tqdm.notebook import tqdm"
   ]
  },
  {
   "cell_type": "raw",
   "id": "eb7f2f20-5ee6-49f7-bd5d-eba4d1f7648a",
   "metadata": {},
   "source": [
    "def batch_inference(data_list):\n",
    "    decoded = list()\n",
    "    for i in tqdm(range(0, len(data_list)-1000, 1000)):\n",
    "        inputs = tokenizer(data_list[i:i+1000], return_tensors=\"pt\", padding=True, truncation=True)\n",
    "        sequences = model.generate(**inputs, do_sample=True, min_length=4, max_length=10, temperature=0.001)\n",
    "        decoded.extend(tokenizer.batch_decode(sequences, skip_special_tokens=True))\n",
    "    return decoded\n",
    "decoded = batch_inference(text_data)"
   ]
  },
  {
   "cell_type": "code",
   "execution_count": 24,
   "id": "e05a88a4-beb5-464d-a530-91e6921c6f67",
   "metadata": {},
   "outputs": [],
   "source": [
    "filename = 'flan_t5_hsol_results.csv'"
   ]
  },
  {
   "cell_type": "code",
   "execution_count": 25,
   "id": "5994c56f-a786-4ddc-97d5-fc0d552127ee",
   "metadata": {},
   "outputs": [],
   "source": [
    "file_object = open(filename, 'w')\n",
    "for i, out in enumerate(decoded):\n",
    "    file_object.write(out)\n",
    "    file_object.write(',')\n",
    "    file_object.write(labels[str(df[\"class\"][i])])\n",
    "    file_object.write('\\n')\n",
    "file_object.close()"
   ]
  },
  {
   "cell_type": "code",
   "execution_count": 26,
   "id": "ee79305f-7ab9-4731-a3af-594db83634a8",
   "metadata": {},
   "outputs": [
    {
     "data": {
      "text/html": [
       "<div>\n",
       "<style scoped>\n",
       "    .dataframe tbody tr th:only-of-type {\n",
       "        vertical-align: middle;\n",
       "    }\n",
       "\n",
       "    .dataframe tbody tr th {\n",
       "        vertical-align: top;\n",
       "    }\n",
       "\n",
       "    .dataframe thead th {\n",
       "        text-align: right;\n",
       "    }\n",
       "</style>\n",
       "<table border=\"1\" class=\"dataframe\">\n",
       "  <thead>\n",
       "    <tr style=\"text-align: right;\">\n",
       "      <th></th>\n",
       "      <th>output</th>\n",
       "      <th>truth</th>\n",
       "    </tr>\n",
       "  </thead>\n",
       "  <tbody>\n",
       "    <tr>\n",
       "      <th>0</th>\n",
       "      <td>Hate None</td>\n",
       "      <td>Offensive</td>\n",
       "    </tr>\n",
       "    <tr>\n",
       "      <th>1</th>\n",
       "      <td>Hate None-hate</td>\n",
       "      <td>Offensive</td>\n",
       "    </tr>\n",
       "    <tr>\n",
       "      <th>2</th>\n",
       "      <td>Non-hate</td>\n",
       "      <td>Offensive</td>\n",
       "    </tr>\n",
       "    <tr>\n",
       "      <th>3</th>\n",
       "      <td>Hate None-hate</td>\n",
       "      <td>Offensive</td>\n",
       "    </tr>\n",
       "    <tr>\n",
       "      <th>4</th>\n",
       "      <td>Hate None-hate</td>\n",
       "      <td>Offensive</td>\n",
       "    </tr>\n",
       "  </tbody>\n",
       "</table>\n",
       "</div>"
      ],
      "text/plain": [
       "           output      truth\n",
       "0       Hate None  Offensive\n",
       "1  Hate None-hate  Offensive\n",
       "2        Non-hate  Offensive\n",
       "3  Hate None-hate  Offensive\n",
       "4  Hate None-hate  Offensive"
      ]
     },
     "execution_count": 26,
     "metadata": {},
     "output_type": "execute_result"
    }
   ],
   "source": [
    "results = pd.read_csv(filename)\n",
    "results.columns = [\"output\", \"truth\"]\n",
    "results.head()"
   ]
  },
  {
   "cell_type": "markdown",
   "id": "ee33db05-9ed6-4a2c-bd39-997c19181dc7",
   "metadata": {},
   "source": [
    "### Answer Mapping"
   ]
  }
 ],
 "metadata": {
  "kernelspec": {
   "display_name": "Python 3 (ipykernel)",
   "language": "python",
   "name": "python3"
  },
  "language_info": {
   "codemirror_mode": {
    "name": "ipython",
    "version": 3
   },
   "file_extension": ".py",
   "mimetype": "text/x-python",
   "name": "python",
   "nbconvert_exporter": "python",
   "pygments_lexer": "ipython3",
   "version": "3.9.18"
  }
 },
 "nbformat": 4,
 "nbformat_minor": 5
}
